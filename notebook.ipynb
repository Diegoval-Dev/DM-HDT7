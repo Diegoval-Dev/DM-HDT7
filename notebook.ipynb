{
 "cells": [
  {
   "cell_type": "markdown",
   "id": "489d3b39",
   "metadata": {},
   "source": [
    "# Modelos de Regresión Logística\n",
    "Repo: https://github.com/Diegoval-Dev/DM-HDT7\n",
    "\n",
    "- Gerson Ramirez - 22281\n",
    "- Diego Valenzuela - 22309"
   ]
  },
  {
   "cell_type": "markdown",
   "id": "6c5d968c",
   "metadata": {},
   "source": [
    "## Paso 1: Crear variables dicotómicas para las categorías de precio\n",
    "\n",
    "Para aplicar modelos de clasificación binaria como la regresión logística, es necesario transformar la variable categórica que representa el precio de la vivienda en variables dicotómicas. En ejercicios anteriores se clasificaron las viviendas en tres categorías: `cara`, `media` y `económica`.\n",
    "\n",
    "En este paso, crearemos tres nuevas columnas binarias:\n",
    "- `cara_o_no`: toma valor 1 si la vivienda es cara, 0 en caso contrario.\n",
    "- `media_o_no`: toma valor 1 si la vivienda es de precio medio, 0 en caso contrario.\n",
    "- `economica_o_no`: toma valor 1 si la vivienda es económica, 0 en caso contrario.\n",
    "\n",
    "Estas variables permitirán construir modelos independientes para predecir cada categoría.\n"
   ]
  },
  {
   "cell_type": "code",
   "execution_count": 30,
   "id": "6042233c",
   "metadata": {},
   "outputs": [
    {
     "name": "stdout",
     "output_type": "stream",
     "text": [
      "Categorías únicas: ['Cara' 'Intermedia' 'Economica']\n"
     ]
    },
    {
     "data": {
      "text/html": [
       "<div>\n",
       "<style scoped>\n",
       "    .dataframe tbody tr th:only-of-type {\n",
       "        vertical-align: middle;\n",
       "    }\n",
       "\n",
       "    .dataframe tbody tr th {\n",
       "        vertical-align: top;\n",
       "    }\n",
       "\n",
       "    .dataframe thead th {\n",
       "        text-align: right;\n",
       "    }\n",
       "</style>\n",
       "<table border=\"1\" class=\"dataframe\">\n",
       "  <thead>\n",
       "    <tr style=\"text-align: right;\">\n",
       "      <th></th>\n",
       "      <th>PriceCategory</th>\n",
       "      <th>cara_o_no</th>\n",
       "      <th>media_o_no</th>\n",
       "      <th>economica_o_no</th>\n",
       "    </tr>\n",
       "  </thead>\n",
       "  <tbody>\n",
       "    <tr>\n",
       "      <th>0</th>\n",
       "      <td>Cara</td>\n",
       "      <td>1</td>\n",
       "      <td>0</td>\n",
       "      <td>0</td>\n",
       "    </tr>\n",
       "    <tr>\n",
       "      <th>1</th>\n",
       "      <td>Intermedia</td>\n",
       "      <td>0</td>\n",
       "      <td>1</td>\n",
       "      <td>0</td>\n",
       "    </tr>\n",
       "    <tr>\n",
       "      <th>2</th>\n",
       "      <td>Cara</td>\n",
       "      <td>1</td>\n",
       "      <td>0</td>\n",
       "      <td>0</td>\n",
       "    </tr>\n",
       "    <tr>\n",
       "      <th>3</th>\n",
       "      <td>Intermedia</td>\n",
       "      <td>0</td>\n",
       "      <td>1</td>\n",
       "      <td>0</td>\n",
       "    </tr>\n",
       "    <tr>\n",
       "      <th>4</th>\n",
       "      <td>Cara</td>\n",
       "      <td>1</td>\n",
       "      <td>0</td>\n",
       "      <td>0</td>\n",
       "    </tr>\n",
       "  </tbody>\n",
       "</table>\n",
       "</div>"
      ],
      "text/plain": [
       "  PriceCategory  cara_o_no  media_o_no  economica_o_no\n",
       "0          Cara          1           0               0\n",
       "1    Intermedia          0           1               0\n",
       "2          Cara          1           0               0\n",
       "3    Intermedia          0           1               0\n",
       "4          Cara          1           0               0"
      ]
     },
     "execution_count": 30,
     "metadata": {},
     "output_type": "execute_result"
    }
   ],
   "source": [
    "import pandas as pd\n",
    "\n",
    "df = pd.read_csv(\"processed_data.csv\")\n",
    "\n",
    "print(\"Categorías únicas:\", df['PriceCategory'].unique())\n",
    "\n",
    "df['cara_o_no'] = (df['PriceCategory'] == 'Cara').astype(int)\n",
    "df['media_o_no'] = (df['PriceCategory'] == 'Intermedia').astype(int)\n",
    "df['economica_o_no'] = (df['PriceCategory'] == 'Economica').astype(int)\n",
    "\n",
    "df[['PriceCategory', 'cara_o_no', 'media_o_no', 'economica_o_no']].head()\n",
    "\n"
   ]
  },
  {
   "cell_type": "markdown",
   "id": "89d9dd18",
   "metadata": {},
   "source": [
    "### Análisis del Paso 1: Variables dicotómicas\n",
    "\n",
    "Las nuevas columnas `cara_o_no`, `media_o_no` y `economica_o_no` fueron creadas exitosamente a partir de la variable categórica `PriceCategory`. Cada una representa una clase como una variable binaria (1 si pertenece a esa clase, 0 si no).\n",
    "\n",
    "Este paso es esencial para aplicar modelos de clasificación binaria como la regresión logística. Al usar estas variables, se podrá entrenar un modelo independiente para predecir si una vivienda pertenece o no a cada una de las categorías definidas.\n",
    "\n",
    "El resultado obtenido muestra que las variables se asignaron correctamente. Por ejemplo, una vivienda con `PriceCategory = \"Cara\"` tiene `cara_o_no = 1` y `media_o_no` y `economica_o_no` iguales a 0.\n"
   ]
  },
  {
   "cell_type": "markdown",
   "id": "ea8343c4",
   "metadata": {},
   "source": [
    "## Paso 2: Cargar los mismos conjuntos de entrenamiento y prueba utilizados anteriormente\n",
    "\n",
    "Para mantener la consistencia con los análisis previos y permitir comparaciones justas entre modelos, utilizaremos los mismos conjuntos de entrenamiento y prueba que se usaron en ejercicios anteriores como KNN y Naive Bayes.\n",
    "\n",
    "Estos conjuntos fueron generados a partir del dataset procesado, utilizando una división del 80% para entrenamiento y 20% para prueba, con una semilla (`random_state`) fija para garantizar reproducibilidad. En esta hoja se reutilizará esa misma división, filtrando además solo las columnas necesarias para el modelo actual.\n"
   ]
  },
  {
   "cell_type": "code",
   "execution_count": 31,
   "id": "d4f2ac95",
   "metadata": {},
   "outputs": [
    {
     "name": "stdout",
     "output_type": "stream",
     "text": [
      "Tamaño X_train: (1168, 76)\n",
      "Tamaño X_test: (292, 76)\n",
      "Distribución en y_train: cara_o_no\n",
      "0    0.669521\n",
      "1    0.330479\n",
      "Name: proportion, dtype: float64\n",
      "Distribución en y_test: cara_o_no\n",
      "0    0.667808\n",
      "1    0.332192\n",
      "Name: proportion, dtype: float64\n"
     ]
    }
   ],
   "source": [
    "from sklearn.model_selection import train_test_split\n",
    "\n",
    "X = df.drop(columns=['PriceCategory', 'cara_o_no', 'media_o_no', 'economica_o_no'])\n",
    "\n",
    "y = df['cara_o_no']\n",
    "\n",
    "X_train, X_test, y_train, y_test = train_test_split(\n",
    "    X, y, test_size=0.2, random_state=42, stratify=y\n",
    ")\n",
    "\n",
    "print(\"Tamaño X_train:\", X_train.shape)\n",
    "print(\"Tamaño X_test:\", X_test.shape)\n",
    "print(\"Distribución en y_train:\", y_train.value_counts(normalize=True))\n",
    "print(\"Distribución en y_test:\", y_test.value_counts(normalize=True))\n"
   ]
  },
  {
   "cell_type": "markdown",
   "id": "663298fd",
   "metadata": {},
   "source": [
    "### Análisis del Paso 2: División en conjuntos de entrenamiento y prueba\n",
    "\n",
    "Se utilizó la función `train_test_split` para dividir el conjunto de datos en entrenamiento (80%) y prueba (20%), manteniendo la proporción de clases mediante el parámetro `stratify=y`.\n",
    "\n",
    "Se utilizó como variable objetivo la columna `cara_o_no`, que representa si una vivienda es cara o no. La matriz `X` contiene únicamente las variables predictoras, excluyendo las etiquetas categóricas y las variables dummy adicionales.\n",
    "\n",
    "Los tamaños de los conjuntos son:\n",
    "- Entrenamiento: 1168 muestras\n",
    "- Prueba: 292 muestras\n",
    "\n",
    "La distribución de clases se conserva adecuadamente:\n",
    "- Entrenamiento: 33% viviendas caras, 67% no caras\n",
    "- Prueba: 33% viviendas caras, 67% no caras\n",
    "\n",
    "Esta división permitirá entrenar y evaluar el modelo de forma confiable y reproducible.\n"
   ]
  },
  {
   "cell_type": "markdown",
   "id": "05f89894",
   "metadata": {},
   "source": [
    "## Paso 3: Entrenar un modelo de regresión logística (cara vs no cara)\n",
    "\n",
    "En este paso se entrenará un modelo de regresión logística para predecir si una vivienda pertenece a la categoría `Cara` o no. Para ello, se utilizará como variable dependiente la columna `cara_o_no` y como variables independientes el conjunto de predictores previamente definido.\n",
    "\n",
    "Se aplicará validación cruzada con 5 particiones (`cv=5`) para obtener métricas de desempeño estables. Además, se calcularán los coeficientes del modelo para analizar la influencia de cada variable en la probabilidad de que una vivienda sea clasificada como `Cara`.\n",
    "\n",
    "Este modelo servirá como base para evaluar qué tan bien se puede predecir esta categoría utilizando regresión logística.\n"
   ]
  },
  {
   "cell_type": "code",
   "execution_count": 32,
   "id": "d835820c",
   "metadata": {},
   "outputs": [
    {
     "name": "stdout",
     "output_type": "stream",
     "text": [
      "Accuracy promedio (validación cruzada): 0.994\n",
      "Desviación estándar: 0.0034\n"
     ]
    },
    {
     "data": {
      "text/html": [
       "<div>\n",
       "<style scoped>\n",
       "    .dataframe tbody tr th:only-of-type {\n",
       "        vertical-align: middle;\n",
       "    }\n",
       "\n",
       "    .dataframe tbody tr th {\n",
       "        vertical-align: top;\n",
       "    }\n",
       "\n",
       "    .dataframe thead th {\n",
       "        text-align: right;\n",
       "    }\n",
       "</style>\n",
       "<table border=\"1\" class=\"dataframe\">\n",
       "  <thead>\n",
       "    <tr style=\"text-align: right;\">\n",
       "      <th></th>\n",
       "      <th>Variable</th>\n",
       "      <th>Coeficiente</th>\n",
       "    </tr>\n",
       "  </thead>\n",
       "  <tbody>\n",
       "    <tr>\n",
       "      <th>72</th>\n",
       "      <td>YrSold</td>\n",
       "      <td>-0.103336</td>\n",
       "    </tr>\n",
       "    <tr>\n",
       "      <th>19</th>\n",
       "      <td>YearRemodAdd</td>\n",
       "      <td>-0.090085</td>\n",
       "    </tr>\n",
       "    <tr>\n",
       "      <th>57</th>\n",
       "      <td>GarageYrBlt</td>\n",
       "      <td>-0.056699</td>\n",
       "    </tr>\n",
       "    <tr>\n",
       "      <th>18</th>\n",
       "      <td>YearBuilt</td>\n",
       "      <td>-0.051794</td>\n",
       "    </tr>\n",
       "    <tr>\n",
       "      <th>3</th>\n",
       "      <td>LotFrontage</td>\n",
       "      <td>-0.018193</td>\n",
       "    </tr>\n",
       "    <tr>\n",
       "      <th>68</th>\n",
       "      <td>ScreenPorch</td>\n",
       "      <td>-0.017090</td>\n",
       "    </tr>\n",
       "    <tr>\n",
       "      <th>1</th>\n",
       "      <td>MSSubClass</td>\n",
       "      <td>0.015717</td>\n",
       "    </tr>\n",
       "    <tr>\n",
       "      <th>66</th>\n",
       "      <td>EnclosedPorch</td>\n",
       "      <td>-0.013813</td>\n",
       "    </tr>\n",
       "    <tr>\n",
       "      <th>44</th>\n",
       "      <td>LowQualFinSF</td>\n",
       "      <td>0.012296</td>\n",
       "    </tr>\n",
       "    <tr>\n",
       "      <th>65</th>\n",
       "      <td>OpenPorchSF</td>\n",
       "      <td>-0.011959</td>\n",
       "    </tr>\n",
       "  </tbody>\n",
       "</table>\n",
       "</div>"
      ],
      "text/plain": [
       "         Variable  Coeficiente\n",
       "72         YrSold    -0.103336\n",
       "19   YearRemodAdd    -0.090085\n",
       "57    GarageYrBlt    -0.056699\n",
       "18      YearBuilt    -0.051794\n",
       "3     LotFrontage    -0.018193\n",
       "68    ScreenPorch    -0.017090\n",
       "1      MSSubClass     0.015717\n",
       "66  EnclosedPorch    -0.013813\n",
       "44   LowQualFinSF     0.012296\n",
       "65    OpenPorchSF    -0.011959"
      ]
     },
     "execution_count": 32,
     "metadata": {},
     "output_type": "execute_result"
    }
   ],
   "source": [
    "from sklearn.linear_model import LogisticRegression\n",
    "from sklearn.model_selection import cross_val_score\n",
    "import numpy as np\n",
    "\n",
    "model = LogisticRegression(max_iter=1000, solver='liblinear')\n",
    "\n",
    "cv_scores = cross_val_score(model, X_train, y_train, cv=5, scoring='accuracy')\n",
    "\n",
    "model.fit(X_train, y_train)\n",
    "\n",
    "print(\"Accuracy promedio (validación cruzada):\", round(np.mean(cv_scores), 4))\n",
    "print(\"Desviación estándar:\", round(np.std(cv_scores), 4))\n",
    "\n",
    "coef_df = pd.DataFrame({\n",
    "    'Variable': X_train.columns,\n",
    "    'Coeficiente': model.coef_[0]\n",
    "}).sort_values(by='Coeficiente', key=abs, ascending=False)\n",
    "\n",
    "coef_df.head(10)\n"
   ]
  },
  {
   "cell_type": "markdown",
   "id": "1e2a19c3",
   "metadata": {},
   "source": [
    "### Análisis del Paso 3: Modelo de regresión logística (cara vs no cara)\n",
    "\n",
    "Se entrenó un modelo de regresión logística para predecir si una vivienda pertenece a la categoría `Cara` o no. El modelo fue evaluado utilizando validación cruzada con 5 particiones (`cv=5`) sobre el conjunto de entrenamiento.\n",
    "\n",
    "#### Resultados:\n",
    "- **Accuracy promedio (CV):** 0.9949\n",
    "- **Desviación estándar:** 0.0032\n",
    "\n",
    "Estos valores indican un rendimiento extremadamente alto del modelo en la etapa de entrenamiento, lo cual podría ser una señal de **sobreajuste**, por lo que será importante compararlo con el rendimiento en el conjunto de prueba más adelante.\n",
    "\n",
    "#### Coeficientes más relevantes del modelo:\n",
    "Los siguientes predictores fueron los que más influyeron (en valor absoluto) en la clasificación:\n",
    "\n",
    "| Variable         | Coeficiente  |\n",
    "|------------------|--------------|\n",
    "| YrSold           | -0.1033      |\n",
    "| YearRemodAdd     | -0.0901      |\n",
    "| GarageYrBlt      | -0.0567      |\n",
    "| YearBuilt        | -0.0518      |\n",
    "| LotFrontage      | -0.0182      |\n",
    "| ScreenPorch      | -0.0171      |\n",
    "\n",
    "Los coeficientes negativos indican que a mayor valor de esa variable, menor probabilidad de que la vivienda sea clasificada como `Cara`. Por ejemplo, casas más nuevas (`YrSold`, `YearBuilt`, `YearRemodAdd`) tienden a no ser clasificadas como `Cara`, posiblemente porque la categoría `Cara` está asociada con otras características de lujo más que con la antigüedad.\n",
    "\n",
    "Este modelo servirá como base para evaluar el sobreajuste, la capacidad predictiva y para compararlo con otros clasificadores más adelante.\n"
   ]
  },
  {
   "cell_type": "markdown",
   "id": "14bbede5",
   "metadata": {},
   "source": [
    "## Paso 4: Análisis del modelo (significancia, multicolinealidad, correlaciones)\n",
    "\n",
    "Antes de considerar el modelo de regresión logística como confiable, es importante evaluar:\n",
    "\n",
    "1. **Significancia estadística** de los coeficientes, usando p-valores. Esto nos dirá si las variables realmente contribuyen a explicar la probabilidad de que una vivienda sea `Cara`.\n",
    "\n",
    "2. **Multicolinealidad**, evaluada con el Factor de Inflación de la Varianza (VIF), para detectar si algunas variables explicativas están altamente correlacionadas entre sí.\n",
    "\n",
    "3. **Correlación entre predictores**, a través de una matriz de correlación, lo cual también puede evidenciar redundancia entre variables.\n",
    "\n",
    "Este paso tiene como objetivo evaluar la estabilidad, interpretabilidad y fiabilidad del modelo.\n"
   ]
  },
  {
   "cell_type": "code",
   "execution_count": 33,
   "id": "fe5e5f35",
   "metadata": {},
   "outputs": [
    {
     "name": "stderr",
     "output_type": "stream",
     "text": [
      "/Users/gerco/UVG/7th_Semester/Data_Mining/DM-HDT7/venv/lib/python3.13/site-packages/statsmodels/stats/outliers_influence.py:197: RuntimeWarning: divide by zero encountered in scalar divide\n",
      "  vif = 1. / (1. - r_squared_i)\n"
     ]
    },
    {
     "name": "stdout",
     "output_type": "stream",
     "text": [
      "Warning: Maximum number of iterations has been exceeded.\n",
      "         Current function value: 0.374491\n",
      "         Iterations: 35\n",
      "                           Logit Regression Results                           \n",
      "==============================================================================\n",
      "Dep. Variable:              cara_o_no   No. Observations:                 1168\n",
      "Model:                          Logit   Df Residuals:                     1137\n",
      "Method:                           MLE   Df Model:                           30\n",
      "Date:                Sun, 13 Apr 2025   Pseudo R-squ.:                  0.4098\n",
      "Time:                        18:56:14   Log-Likelihood:                -437.41\n",
      "converged:                      False   LL-Null:                       -741.12\n",
      "Covariance Type:            nonrobust   LLR p-value:                8.598e-109\n",
      "=================================================================================\n",
      "                    coef    std err          z      P>|z|      [0.025      0.975]\n",
      "---------------------------------------------------------------------------------\n",
      "const            -0.9302      0.622     -1.496      0.135      -2.149       0.288\n",
      "Id               -0.0002      0.000     -0.933      0.351      -0.001       0.000\n",
      "LotArea        6.428e-05   2.16e-05      2.975      0.003    2.19e-05       0.000\n",
      "LotShape         -0.1307      0.062     -2.092      0.036      -0.253      -0.008\n",
      "Utilities       -20.5305   3.94e+04     -0.001      1.000   -7.73e+04    7.72e+04\n",
      "LotConfig        -0.0303      0.056     -0.544      0.587      -0.140       0.079\n",
      "LandSlope        -0.2974      0.371     -0.803      0.422      -1.024       0.429\n",
      "Neighborhood      0.0208      0.014      1.473      0.141      -0.007       0.048\n",
      "Condition1        0.0021      0.100      0.021      0.983      -0.193       0.197\n",
      "BldgType         -0.0191      0.079     -0.242      0.808      -0.173       0.135\n",
      "HouseStyle       -0.0436      0.054     -0.806      0.420      -0.150       0.062\n",
      "RoofStyle        -0.0012      0.110     -0.011      0.991      -0.217       0.214\n",
      "RoofMatl          0.0043      0.153      0.028      0.978      -0.296       0.304\n",
      "MasVnrArea        0.0022      0.001      3.966      0.000       0.001       0.003\n",
      "BsmtExposure     -0.2328      0.078     -2.978      0.003      -0.386      -0.080\n",
      "BsmtFinType1      0.0171      0.046      0.369      0.712      -0.074       0.108\n",
      "HeatingQC        -0.5310      0.063     -8.487      0.000      -0.654      -0.408\n",
      "BsmtFullBath      0.2385      0.204      1.167      0.243      -0.162       0.639\n",
      "BsmtHalfBath     -0.6779      0.399     -1.697      0.090      -1.461       0.105\n",
      "HalfBath          0.5486      0.196      2.793      0.005       0.164       0.934\n",
      "Fireplaces        0.7438      0.151      4.940      0.000       0.449       1.039\n",
      "GarageType       -0.2823      0.063     -4.511      0.000      -0.405      -0.160\n",
      "GarageFinish     -0.2473      0.078     -3.159      0.002      -0.401      -0.094\n",
      "WoodDeckSF        0.0023      0.001      3.221      0.001       0.001       0.004\n",
      "OpenPorchSF       0.0077      0.001      5.815      0.000       0.005       0.010\n",
      "EnclosedPorch     0.0024      0.002      1.578      0.115      -0.001       0.005\n",
      "3SsnPorch         0.0023      0.002      1.080      0.280      -0.002       0.006\n",
      "ScreenPorch      -0.0001      0.002     -0.074      0.941      -0.003       0.003\n",
      "PoolArea         -0.0001      0.002     -0.063      0.950      -0.004       0.004\n",
      "MiscVal          -0.0004      0.000     -1.384      0.166      -0.001       0.000\n",
      "MoSold            0.0440      0.032      1.356      0.175      -0.020       0.107\n",
      "=================================================================================\n",
      "\n",
      "Top variables con mayor VIF (modelo final):\n",
      "        Variable       VIF\n",
      "7     Condition1  6.225699\n",
      "29        MoSold  6.168396\n",
      "13  BsmtExposure  5.936039\n",
      "6   Neighborhood  5.238665\n",
      "11      RoofMatl  4.639847\n",
      "4      LotConfig  4.628619\n",
      "9     HouseStyle  4.459369\n",
      "21  GarageFinish  4.352200\n",
      "10     RoofStyle  4.264323\n",
      "0             Id  3.876548\n"
     ]
    },
    {
     "name": "stderr",
     "output_type": "stream",
     "text": [
      "/Users/gerco/UVG/7th_Semester/Data_Mining/DM-HDT7/venv/lib/python3.13/site-packages/statsmodels/base/model.py:607: ConvergenceWarning: Maximum Likelihood optimization failed to converge. Check mle_retvals\n",
      "  warnings.warn(\"Maximum Likelihood optimization failed to \"\n"
     ]
    },
    {
     "data": {
      "image/png": "[encoded data removed]",
      "text/plain": [
       "<Figure size 1200x1000 with 2 Axes>"
      ]
     },
     "metadata": {},
     "output_type": "display_data"
    }
   ],
   "source": [
    "import pandas as pd\n",
    "import statsmodels.api as sm\n",
    "from statsmodels.stats.outliers_influence import variance_inflation_factor\n",
    "import matplotlib.pyplot as plt\n",
    "\n",
    "vif_df = pd.DataFrame()\n",
    "vif_df[\"Variable\"] = X_train.columns\n",
    "vif_df[\"VIF\"] = [variance_inflation_factor(X_train.values, i) for i in range(X_train.shape[1])]\n",
    "\n",
    "variables_filtradas = vif_df[vif_df[\"VIF\"] < 10][\"Variable\"].tolist()\n",
    "X_train_filtrado = X_train[variables_filtradas]\n",
    "\n",
    "X_train_const = sm.add_constant(X_train_filtrado)\n",
    "modelo_sm = sm.Logit(y_train, X_train_const).fit()\n",
    "\n",
    "print(modelo_sm.summary())\n",
    "\n",
    "vif_final = pd.DataFrame()\n",
    "vif_final[\"Variable\"] = X_train_filtrado.columns\n",
    "vif_final[\"VIF\"] = [variance_inflation_factor(X_train_filtrado.values, i) for i in range(X_train_filtrado.shape[1])]\n",
    "vif_final = vif_final.sort_values(by=\"VIF\", ascending=False)\n",
    "print(\"\\nTop variables con mayor VIF (modelo final):\")\n",
    "print(vif_final.head(10))\n",
    "\n",
    "corr_matrix = X_train_filtrado.corr()\n",
    "\n",
    "plt.figure(figsize=(12, 10))\n",
    "plt.imshow(corr_matrix, cmap=\"coolwarm\", interpolation='none')\n",
    "plt.title(\"Matriz de correlación entre variables del modelo final\")\n",
    "plt.colorbar()\n",
    "plt.xticks(range(len(corr_matrix.columns)), corr_matrix.columns, rotation=90)\n",
    "plt.yticks(range(len(corr_matrix.index)), corr_matrix.index)\n",
    "plt.tight_layout()\n",
    "plt.show()\n"
   ]
  },
  {
   "cell_type": "markdown",
   "id": "8d644cf8",
   "metadata": {},
   "source": [
    "### Análisis paso 4: (significancia, multicolinealidad y correlaciones)\n",
    "\n",
    "Se realizó un análisis detallado del modelo de regresión logística utilizando `statsmodels` para obtener:\n",
    "\n",
    "- Los coeficientes y sus respectivos p-valores.\n",
    "- Factores de inflación de la varianza (VIF) para medir multicolinealidad.\n",
    "- Matriz de correlación entre variables predictoras.\n",
    "\n",
    "### Significancia estadística (p-valores)\n",
    "\n",
    "El modelo no logró converger del todo (advertencia de máximo de iteraciones), lo cual puede estar relacionado con:\n",
    "\n",
    "- Cierta multicolinealidad persistente.\n",
    "- Variables con muy poco impacto real en la predicción.\n",
    "\n",
    "A pesar de eso, el resumen del modelo mostró varias variables estadísticamente significativas (p < 0.05):\n",
    "\n",
    "| Variable        | p-valor  | Interpretación                                  |\n",
    "|----------------|----------|--------------------------------------------------|\n",
    "| LotArea        | 0.003    | Mayor superficie del terreno → más probabilidad de ser \"Cara\". |\n",
    "| LotShape       | 0.036    | Formas regulares del terreno se relacionan con precio. |\n",
    "| MasVnrArea     | 0.000    | Más área de revestimiento de piedra → más probabilidad. |\n",
    "| BsmtExposure   | 0.003    | Influye negativamente: menos exposición → menor precio. |\n",
    "| HeatingQC      | 0.000    | Calidad de calefacción alta → menor probabilidad de \"Cara\". (curioso) |\n",
    "| HalfBath       | 0.005    | Positivamente relacionada.                      |\n",
    "| Fireplaces     | 0.000    | Claramente relevante para categoría \"Cara\".     |\n",
    "| GarageType     | 0.000    | Tipo de cochera muy influyente.                 |\n",
    "| GarageFinish   | 0.002    | Acabados en cochera importantes.                |\n",
    "| WoodDeckSF     | 0.001    | Más deck → más probabilidad.                    |\n",
    "| OpenPorchSF    | 0.000    | Muy relacionado con categoría \"Cara\".           |\n",
    "\n",
    "Muchas otras variables mostraron p-valores altos, por lo que podrían eliminarse para un modelo más parsimonioso.\n",
    "\n",
    "### Multicolinealidad (VIF)\n",
    "\n",
    "Se eliminaron previamente las variables con VIF mayor a 10. Luego del filtrado, los VIF más altos fueron:\n",
    "\n",
    "| Variable     | VIF    |\n",
    "|--------------|--------|\n",
    "| Condition1   | 6.23   |\n",
    "| MoSold       | 6.17   |\n",
    "| BsmtExposure | 5.94   |\n",
    "| Neighborhood | 5.24   |\n",
    "\n",
    "Aunque no superan el umbral crítico de 10, valores superiores a 5 deben observarse con cuidado. No parecen requerir eliminación inmediata, pero podrían afectar la interpretación conjunta.\n",
    "\n",
    "\n",
    "### Correlación entre variables\n",
    "\n",
    "La matriz de correlación entre las variables finales muestra:\n",
    "\n",
    "- En general, las correlaciones son bajas a moderadas.\n",
    "- No se observan bloques o grupos de variables altamente correlacionadas (> 0.8).\n",
    "- Algunas relaciones débiles o moderadas, como entre tipos de porches, baños y cocheras.\n",
    "\n",
    "Esto sugiere que el modelo no presenta colinealidad severa en su versión actual, aunque sigue habiendo redundancia leve.\n",
    "\n"
   ]
  },
  {
   "cell_type": "markdown",
   "id": "ac93865d",
   "metadata": {},
   "source": [
    "## Paso 5: Evaluación del modelo en el conjunto de prueba\n",
    "\n",
    "En este paso se evalúa el rendimiento del modelo de regresión logística utilizando el conjunto de prueba previamente separado. El objetivo es comprobar qué tan bien generaliza el modelo a nuevos datos no vistos durante el entrenamiento.\n",
    "\n",
    "Se utilizarán las siguientes métricas de clasificación binaria:\n",
    "\n",
    "- Accuracy: proporción de predicciones correctas.\n",
    "- Precision: proporción de verdaderos positivos sobre el total de positivos predichos.\n",
    "- Recall: proporción de verdaderos positivos sobre el total de positivos reales.\n",
    "- F1-score: media armónica entre precision y recall.\n",
    "\n",
    "Estas métricas permiten detectar tanto errores de clasificación como desequilibrios entre clases."
   ]
  },
  {
   "cell_type": "code",
   "execution_count": 34,
   "id": "7d05e291",
   "metadata": {},
   "outputs": [
    {
     "name": "stdout",
     "output_type": "stream",
     "text": [
      "Evaluación del modelo en test:\n",
      "Accuracy:  0.9966\n",
      "Precision: 0.9898\n",
      "Recall:    1.0000\n",
      "F1 Score:  0.9949\n",
      "\n",
      "Reporte de clasificación:\n",
      "              precision    recall  f1-score   support\n",
      "\n",
      "           0       1.00      0.99      1.00       195\n",
      "           1       0.99      1.00      0.99        97\n",
      "\n",
      "    accuracy                           1.00       292\n",
      "   macro avg       0.99      1.00      1.00       292\n",
      "weighted avg       1.00      1.00      1.00       292\n",
      "\n"
     ]
    }
   ],
   "source": [
    "from sklearn.metrics import accuracy_score, precision_score, recall_score, f1_score, classification_report\n",
    "\n",
    "y_pred = model.predict(X_test)\n",
    "\n",
    "acc = accuracy_score(y_test, y_pred)\n",
    "prec = precision_score(y_test, y_pred)\n",
    "rec = recall_score(y_test, y_pred)\n",
    "f1 = f1_score(y_test, y_pred)\n",
    "\n",
    "print(\"Evaluación del modelo en test:\")\n",
    "print(f\"Accuracy:  {acc:.4f}\")\n",
    "print(f\"Precision: {prec:.4f}\")\n",
    "print(f\"Recall:    {rec:.4f}\")\n",
    "print(f\"F1 Score:  {f1:.4f}\")\n",
    "\n",
    "print(\"\\nReporte de clasificación:\")\n",
    "print(classification_report(y_test, y_pred))\n"
   ]
  },
  {
   "cell_type": "markdown",
   "id": "729e9595",
   "metadata": {},
   "source": [
    "### Análisis de paso 5: Evaluación del modelo en el conjunto de prueba\n",
    "\n",
    "El modelo de regresión logística entrenado previamente fue evaluado utilizando el conjunto de prueba. Los resultados de las métricas de clasificación binaria fueron los siguientes:\n",
    "\n",
    "### Métricas obtenidas:\n",
    "\n",
    "- **Accuracy:** 0.9966\n",
    "- **Precision:** 0.9898\n",
    "- **Recall:** 1.0000\n",
    "- **F1 Score:** 0.9949\n",
    "\n",
    "El modelo alcanza un desempeño casi perfecto sobre los datos de prueba. En particular:\n",
    "\n",
    "- El **recall de 1.0** indica que el modelo logró identificar correctamente el 100% de las viviendas caras (clase positiva).\n",
    "- La **precision de 0.9898** implica que casi todas las viviendas clasificadas como \"cara\" realmente lo son, lo que minimiza los falsos positivos.\n",
    "- El **F1-score de 0.9949** muestra un excelente balance entre precision y recall.\n",
    "\n",
    "### Reporte de clasificación por clase:\n",
    "\n",
    "| Clase            | Precision | Recall | F1-score | Soporte |\n",
    "|------------------|-----------|--------|----------|---------|\n",
    "| No Cara (0)      | 1.00      | 0.99   | 1.00     | 195     |\n",
    "| Cara (1)         | 0.99      | 1.00   | 0.99     | 97      |\n",
    "\n",
    "La clase minoritaria (Cara) fue predicha con gran precisión, lo cual es especialmente importante en tareas de clasificación desequilibrada. El modelo no solo identifica correctamente las clases, sino que además lo hace sin penalizar significativamente ninguna de las dos.\n"
   ]
  },
  {
   "cell_type": "markdown",
   "id": "4e101413",
   "metadata": {},
   "source": [
    "## Paso 6: Verificación de sobreajuste\n",
    "\n",
    "Para evaluar si el modelo de regresión logística está sobreajustado a los datos de entrenamiento, se comparan las métricas de desempeño entre los conjuntos de entrenamiento y prueba.\n",
    "\n",
    "Además, se genera una curva de aprendizaje que muestra cómo evolucionan el accuracy de entrenamiento y validación a medida que se incrementa el tamaño del set de entrenamiento.\n",
    "\n",
    "Esto permite identificar si el modelo mejora de forma estable con más datos, o si hay una brecha significativa entre el error de entrenamiento y el de validación."
   ]
  },
  {
   "cell_type": "code",
   "execution_count": 35,
   "id": "da4f8014",
   "metadata": {},
   "outputs": [
    {
     "name": "stdout",
     "output_type": "stream",
     "text": [
      "Accuracy en entrenamiento: 1.0000\n"
     ]
    },
    {
     "data": {
      "image/png": "[encoded data removed]",
      "text/plain": [
       "<Figure size 800x600 with 1 Axes>"
      ]
     },
     "metadata": {},
     "output_type": "display_data"
    }
   ],
   "source": [
    "from sklearn.model_selection import learning_curve\n",
    "import numpy as np\n",
    "import matplotlib.pyplot as plt\n",
    "\n",
    "y_train_pred = model.predict(X_train)\n",
    "train_acc = accuracy_score(y_train, y_train_pred)\n",
    "print(f\"Accuracy en entrenamiento: {train_acc:.4f}\")\n",
    "\n",
    "train_sizes, train_scores, test_scores = learning_curve(\n",
    "    LogisticRegression(max_iter=1000, solver='liblinear'),\n",
    "    X_train, y_train,\n",
    "    cv=5,\n",
    "    scoring='accuracy',\n",
    "    train_sizes=np.linspace(0.1, 1.0, 10),\n",
    "    n_jobs=-1,\n",
    "    shuffle=True,\n",
    "    random_state=42\n",
    ")\n",
    "\n",
    "train_scores_mean = np.mean(train_scores, axis=1)\n",
    "test_scores_mean = np.mean(test_scores, axis=1)\n",
    "\n",
    "plt.figure(figsize=(8,6))\n",
    "plt.plot(train_sizes, train_scores_mean, label='Accuracy en entrenamiento')\n",
    "plt.plot(train_sizes, test_scores_mean, label='Accuracy en validación')\n",
    "plt.xlabel('Tamaño del conjunto de entrenamiento')\n",
    "plt.ylabel('Accuracy')\n",
    "plt.title('Curva de aprendizaje - Regresión logística')\n",
    "plt.legend()\n",
    "plt.grid(True)\n",
    "plt.tight_layout()\n",
    "plt.show()\n"
   ]
  },
  {
   "cell_type": "markdown",
   "id": "87faa026",
   "metadata": {},
   "source": [
    "### Análisis paso 6: Verificación de sobreajuste\n",
    "\n",
    "Se realizó una comparación entre el rendimiento del modelo sobre los datos de entrenamiento y los de validación, complementada con una curva de aprendizaje.\n",
    "\n",
    "### Accuracy:\n",
    "\n",
    "- Accuracy en entrenamiento: 1.0000\n",
    "- Accuracy en validación (CV): entre ~0.976 y 0.994\n",
    "\n",
    "### Curva de aprendizaje:\n",
    "\n",
    "La curva muestra un comportamiento característico de sobreajuste leve:\n",
    "\n",
    "- El modelo alcanza un accuracy perfecto (1.0) en el conjunto de entrenamiento, lo cual indica que memoriza completamente los datos.\n",
    "- En validación, el accuracy es ligeramente menor (aunque aún muy alto), y mejora conforme crece el tamaño del conjunto de entrenamiento.\n",
    "- La brecha entre ambas curvas, aunque pequeña, persiste en todo el rango, indicando que el modelo se ajusta demasiado bien a los datos de entrenamiento.\n",
    "\n",
    "Este comportamiento es esperable cuando:\n",
    "\n",
    "- Se tienen muchas variables predictoras.\n",
    "- El modelo es suficientemente flexible como para aprender ruido.\n",
    "- Las clases están balanceadas, pero se quiere maximizar exactitud.\n",
    "\n",
    "### Conclusión:\n",
    "\n",
    "Aunque el modelo presenta un leve sobreajuste (perfecto en train, pero <1.0 en test), su rendimiento en validación sigue siendo muy alto. Para reducir aún más el sobreajuste, podrían aplicarse estrategias como:\n",
    "\n",
    "- Regularización (L1 o L2).\n",
    "- Selección de variables significativas.\n",
    "- Reducción de dimensionalidad.\n",
    "\n",
    "Sin embargo, no hay señales críticas que afecten gravemente la generalización, por lo que este modelo sigue siendo una base sólida para comparaciones futuras.\n"
   ]
  },
  {
   "cell_type": "markdown",
   "id": "5af79c80",
   "metadata": {},
   "source": [
    "### Paso 7: Tuneo del modelo de regresión logística\n",
    "\n",
    "Realizaremos un ajuste de hiperparámetros para optimizar el rendimiento del modelo de regresión logística. La regresión logística admite regularización como forma de evitar el sobreajuste y mejorar la generalización.\n",
    "\n",
    "Ajustaremos principalmente:\n",
    "\n",
    "- El tipo de penalización (`penalty`): para controlar la complejidad del modelo.\n",
    "- La constante de regularización (`C`): un valor menor implica mayor regularización.\n",
    "- El algoritmo de optimización (`solver`): necesario para compatibilidad con ciertas penalizaciones.\n",
    "\n",
    "Utilizaremos `GridSearchCV` para buscar la mejor combinación de hiperparámetros utilizando validación cruzada estratificada.\n"
   ]
  },
  {
   "cell_type": "code",
   "execution_count": 36,
   "id": "58f5becb",
   "metadata": {},
   "outputs": [
    {
     "name": "stdout",
     "output_type": "stream",
     "text": [
      "Mejores hiperparámetros:\n",
      "{'logreg__C': 10, 'logreg__penalty': 'l2'}\n",
      "Reporte de clasificación (modelo optimizado):\n",
      "              precision    recall  f1-score   support\n",
      "\n",
      "           0       0.97      0.98      0.97       195\n",
      "           1       0.96      0.94      0.95        97\n",
      "\n",
      "    accuracy                           0.97       292\n",
      "   macro avg       0.96      0.96      0.96       292\n",
      "weighted avg       0.97      0.97      0.97       292\n",
      "\n"
     ]
    }
   ],
   "source": [
    "from sklearn.linear_model import LogisticRegression\n",
    "from sklearn.model_selection import GridSearchCV\n",
    "from sklearn.pipeline import Pipeline\n",
    "from sklearn.preprocessing import StandardScaler\n",
    "\n",
    "pipeline = Pipeline([\n",
    "    ('scaler', StandardScaler()),\n",
    "    ('logreg', LogisticRegression(max_iter=1000))\n",
    "])\n",
    "\n",
    "param_grid = {\n",
    "    'logreg__penalty': ['l2'],\n",
    "    'logreg__C': [0.01, 0.1, 1, 10, 100],\n",
    "}\n",
    "\n",
    "grid_search = GridSearchCV(pipeline, param_grid, cv=5, scoring='f1', n_jobs=-1)\n",
    "grid_search.fit(X_train, y_train)\n",
    "\n",
    "print(\"Mejores hiperparámetros:\")\n",
    "print(grid_search.best_params_)\n",
    "\n",
    "best_model = grid_search.best_estimator_\n",
    "y_pred = best_model.predict(X_test)\n",
    "\n",
    "from sklearn.metrics import classification_report\n",
    "print(\"Reporte de clasificación (modelo optimizado):\")\n",
    "print(classification_report(y_test, y_pred))\n"
   ]
  },
  {
   "cell_type": "markdown",
   "id": "5da6414e",
   "metadata": {},
   "source": [
    "Se realizó un ajuste de hiperparámetros usando `GridSearchCV` con validación cruzada de 5 folds, evaluando distintas combinaciones del tipo de penalización (`penalty`) y del parámetro de regularización inverso (`C`).\n",
    "\n",
    "#### Mejor combinación encontrada:\n",
    "- **Penalización (`penalty`)**: `'l2'` (regularización ridge)\n",
    "- **C**: `10` (baja regularización)\n",
    "\n",
    "#### Resultados del modelo optimizado en el conjunto de prueba:\n",
    "\n",
    "| Métrica      | Clase 0 (No Cara) | Clase 1 (Cara) |\n",
    "|--------------|-------------------|----------------|\n",
    "| Precisión    | 0.97              | 0.96           |\n",
    "| Recall       | 0.98              | 0.94           |\n",
    "| F1-Score     | 0.97              | 0.95           |\n",
    "\n",
    "- **Accuracy general**: **0.97**\n",
    "- **Promedio macro F1**: **0.96**\n",
    "\n",
    "El modelo optimizado logra una excelente capacidad de generalización. La penalización `l2` con un valor relativamente bajo de regularización (C=10) permite capturar relaciones útiles sin sobreajustar.\n"
   ]
  },
  {
   "cell_type": "markdown",
   "id": "a2d6ddf0",
   "metadata": {},
   "source": [
    "## Paso 8: Evaluar el modelo optimizado - Matriz de confusión, tiempo y uso de memoria\n",
    "\n",
    "En este paso se evalúa el modelo optimizado de regresión logística utilizando tres enfoques clave:\n",
    "\n",
    "1. **Matriz de confusión:** para visualizar los aciertos y errores en cada clase (cara vs no cara).\n",
    "2. **Métricas de eficiencia:** tiempo de entrenamiento y predicción.\n",
    "3. **Uso de memoria:** estimación del consumo durante la ejecución.\n",
    "\n",
    "Esto permite medir no solo la precisión del modelo, sino también su viabilidad en términos de costo computacional.\n"
   ]
  },
  {
   "cell_type": "code",
   "execution_count": 37,
   "id": "cb314fe0",
   "metadata": {},
   "outputs": [
    {
     "data": {
      "image/png": "[encoded data removed]",
      "text/plain": [
       "<Figure size 640x480 with 2 Axes>"
      ]
     },
     "metadata": {},
     "output_type": "display_data"
    },
    {
     "name": "stdout",
     "output_type": "stream",
     "text": [
      "Tiempo total (s): 0.0143\n",
      "Memoria usada (MiB): 0.0216\n",
      "Pico de memoria (MiB): 1.5201\n"
     ]
    }
   ],
   "source": [
    "import matplotlib.pyplot as plt\n",
    "from sklearn.metrics import ConfusionMatrixDisplay, confusion_matrix\n",
    "import time\n",
    "import tracemalloc\n",
    "\n",
    "start_time = time.time()\n",
    "tracemalloc.start()\n",
    "\n",
    "best_model.fit(X_train, y_train)\n",
    "y_pred = best_model.predict(X_test)\n",
    "\n",
    "current, peak = tracemalloc.get_traced_memory()\n",
    "end_time = time.time()\n",
    "\n",
    "tracemalloc.stop()\n",
    "\n",
    "cm = confusion_matrix(y_test, y_pred)\n",
    "disp = ConfusionMatrixDisplay(confusion_matrix=cm, display_labels=[\"No Cara\", \"Cara\"])\n",
    "disp.plot(cmap=plt.cm.Blues)\n",
    "plt.title(\"Matriz de Confusión\")\n",
    "plt.show()\n",
    "\n",
    "print(f\"Tiempo total (s): {round(end_time - start_time, 4)}\")\n",
    "print(f\"Memoria usada (MiB): {round(current / 1024 / 1024, 4)}\")\n",
    "print(f\"Pico de memoria (MiB): {round(peak / 1024 / 1024, 4)}\")\n"
   ]
  },
  {
   "cell_type": "markdown",
   "id": "55b36c2e",
   "metadata": {},
   "source": [
    "\n",
    "#### Matriz de confusión\n",
    "\n",
    "|                  | Predicho: No Cara | Predicho: Cara |\n",
    "|------------------|-------------------|----------------|\n",
    "| **Real: No Cara** | 191               | 4              |\n",
    "| **Real: Cara**    | 6                 | 91             |\n",
    "\n",
    "El modelo clasificó correctamente:\n",
    "- 191 de 195 viviendas **No Caras**.\n",
    "- 91 de 97 viviendas **Caras**.\n",
    "\n",
    "Solo hubo 10 errores de clasificación en total (4 falsos positivos y 6 falsos negativos), lo cual refleja un muy buen equilibrio entre precisión y recall.\n",
    "\n",
    "#### Tiempo y eficiencia computacional\n",
    "- **Tiempo de ejecución total:** 0.0923 segundos\n",
    "- **Memoria usada:** 0.0202 MiB\n",
    "- **Pico de memoria:** 1.5195 MiB\n",
    "\n",
    "Esto demuestra que el modelo es **muy eficiente**, tanto en tiempo como en memoria, lo cual lo hace adecuado incluso para entornos con recursos limitados o para integraciones en tiempo real.\n"
   ]
  },
  {
   "cell_type": "markdown",
   "id": "5dbf327b",
   "metadata": {},
   "source": [
    "## Paso 9: Comparación y selección del mejor modelo\n",
    "\n",
    "En este paso se comparan dos modelos de regresión logística:\n",
    "\n",
    "- **Modelo clásico:** sin ajuste de hiperparámetros, entrenado con valores por defecto.\n",
    "- **Modelo optimizado:** entrenado con `GridSearchCV`, utilizando `penalty='l2'` y `C=10`.\n",
    "\n",
    "La comparación incluye:\n",
    "- Métricas de desempeño (accuracy, recall, F1-score).\n",
    "- Métricas de eficiencia (tiempo, memoria).\n",
    "- Métricas estadísticas como AIC y BIC (cuando sea posible calcularse).\n"
   ]
  },
  {
   "cell_type": "code",
   "execution_count": null,
   "id": "600e11bc",
   "metadata": {},
   "outputs": [
    {
     "name": "stderr",
     "output_type": "stream",
     "text": [
      "/Users/gerco/UVG/7th_Semester/Data_Mining/DM-HDT7/venv/lib/python3.13/site-packages/statsmodels/discrete/discrete_model.py:2385: RuntimeWarning: overflow encountered in exp\n",
      "  return 1/(1+np.exp(-X))\n",
      "/Users/gerco/UVG/7th_Semester/Data_Mining/DM-HDT7/venv/lib/python3.13/site-packages/statsmodels/discrete/discrete_model.py:2443: RuntimeWarning: divide by zero encountered in log\n",
      "  return np.sum(np.log(self.cdf(q * linpred)))\n",
      "/Users/gerco/UVG/7th_Semester/Data_Mining/DM-HDT7/venv/lib/python3.13/site-packages/statsmodels/stats/outliers_influence.py:197: RuntimeWarning: divide by zero encountered in scalar divide\n",
      "  vif = 1. / (1. - r_squared_i)\n"
     ]
    },
    {
     "name": "stdout",
     "output_type": "stream",
     "text": [
      "Eliminando variable: 2ndFlrSF con VIF inf\n"
     ]
    },
    {
     "name": "stderr",
     "output_type": "stream",
     "text": [
      "/Users/gerco/UVG/7th_Semester/Data_Mining/DM-HDT7/venv/lib/python3.13/site-packages/statsmodels/discrete/discrete_model.py:2385: RuntimeWarning: overflow encountered in exp\n",
      "  return 1/(1+np.exp(-X))\n",
      "/Users/gerco/UVG/7th_Semester/Data_Mining/DM-HDT7/venv/lib/python3.13/site-packages/statsmodels/discrete/discrete_model.py:2443: RuntimeWarning: divide by zero encountered in log\n",
      "  return np.sum(np.log(self.cdf(q * linpred)))\n",
      "/Users/gerco/UVG/7th_Semester/Data_Mining/DM-HDT7/venv/lib/python3.13/site-packages/statsmodels/stats/outliers_influence.py:197: RuntimeWarning: divide by zero encountered in scalar divide\n",
      "  vif = 1. / (1. - r_squared_i)\n"
     ]
    },
    {
     "name": "stdout",
     "output_type": "stream",
     "text": [
      "Eliminando variable: BsmtFinSF1 con VIF inf\n"
     ]
    },
    {
     "name": "stderr",
     "output_type": "stream",
     "text": [
      "/Users/gerco/UVG/7th_Semester/Data_Mining/DM-HDT7/venv/lib/python3.13/site-packages/statsmodels/discrete/discrete_model.py:2385: RuntimeWarning: overflow encountered in exp\n",
      "  return 1/(1+np.exp(-X))\n",
      "/Users/gerco/UVG/7th_Semester/Data_Mining/DM-HDT7/venv/lib/python3.13/site-packages/statsmodels/discrete/discrete_model.py:2443: RuntimeWarning: divide by zero encountered in log\n",
      "  return np.sum(np.log(self.cdf(q * linpred)))\n"
     ]
    },
    {
     "name": "stdout",
     "output_type": "stream",
     "text": [
      "Eliminando variable: GrLivArea con VIF 10.3882\n"
     ]
    },
    {
     "name": "stderr",
     "output_type": "stream",
     "text": [
      "/Users/gerco/UVG/7th_Semester/Data_Mining/DM-HDT7/venv/lib/python3.13/site-packages/statsmodels/discrete/discrete_model.py:2385: RuntimeWarning: overflow encountered in exp\n",
      "  return 1/(1+np.exp(-X))\n",
      "/Users/gerco/UVG/7th_Semester/Data_Mining/DM-HDT7/venv/lib/python3.13/site-packages/statsmodels/discrete/discrete_model.py:2443: RuntimeWarning: divide by zero encountered in log\n",
      "  return np.sum(np.log(self.cdf(q * linpred)))\n"
     ]
    },
    {
     "name": "stdout",
     "output_type": "stream",
     "text": [
      "Eliminando variable: YearBuilt con VIF 8.7375\n"
     ]
    },
    {
     "name": "stderr",
     "output_type": "stream",
     "text": [
      "/Users/gerco/UVG/7th_Semester/Data_Mining/DM-HDT7/venv/lib/python3.13/site-packages/statsmodels/discrete/discrete_model.py:2385: RuntimeWarning: overflow encountered in exp\n",
      "  return 1/(1+np.exp(-X))\n",
      "/Users/gerco/UVG/7th_Semester/Data_Mining/DM-HDT7/venv/lib/python3.13/site-packages/statsmodels/discrete/discrete_model.py:2443: RuntimeWarning: divide by zero encountered in log\n",
      "  return np.sum(np.log(self.cdf(q * linpred)))\n"
     ]
    },
    {
     "name": "stdout",
     "output_type": "stream",
     "text": [
      "Eliminando variable: TotalBsmtSF con VIF 6.4472\n"
     ]
    },
    {
     "name": "stderr",
     "output_type": "stream",
     "text": [
      "/Users/gerco/UVG/7th_Semester/Data_Mining/DM-HDT7/venv/lib/python3.13/site-packages/statsmodels/discrete/discrete_model.py:2385: RuntimeWarning: overflow encountered in exp\n",
      "  return 1/(1+np.exp(-X))\n",
      "/Users/gerco/UVG/7th_Semester/Data_Mining/DM-HDT7/venv/lib/python3.13/site-packages/statsmodels/discrete/discrete_model.py:2443: RuntimeWarning: divide by zero encountered in log\n",
      "  return np.sum(np.log(self.cdf(q * linpred)))\n"
     ]
    },
    {
     "name": "stdout",
     "output_type": "stream",
     "text": [
      "Eliminando variable: SalePrice con VIF 6.3032\n",
      "Variables eliminadas: ['2ndFlrSF', 'BsmtFinSF1', 'GrLivArea', 'YearBuilt', 'TotalBsmtSF', 'SalePrice']\n",
      "AIC: 532.9478971469597\n",
      "BIC: 882.2982204207435\n"
     ]
    }
   ],
   "source": [
    "import numpy as np\n",
    "import pandas as pd\n",
    "import statsmodels.api as sm\n",
    "from statsmodels.stats.outliers_influence import variance_inflation_factor\n",
    "from sklearn.feature_selection import VarianceThreshold\n",
    "\n",
    "selector = VarianceThreshold(threshold=0.01)\n",
    "X_filtered = selector.fit_transform(X_train)\n",
    "columnas_filtradas = X_train.columns[selector.get_support()]\n",
    "X_reducido = pd.DataFrame(X_filtered, columns=columnas_filtradas, index=X_train.index)\n",
    "\n",
    "X_vif = sm.add_constant(X_reducido)\n",
    "\n",
    "X_iter = X_vif.copy()\n",
    "variables_dropeadas = []\n",
    "\n",
    "while True:\n",
    "    try:\n",
    "        logit_model = sm.Logit(y_train, X_iter).fit(disp=False)\n",
    "    except np.linalg.LinAlgError:\n",
    "        vif_df = pd.DataFrame({\n",
    "            'variable': X_iter.columns,\n",
    "            'VIF': [variance_inflation_factor(X_iter.values, i) for i in range(X_iter.shape[1])]\n",
    "        })\n",
    "        vif_df_sin_const = vif_df[vif_df['variable'] != 'const']\n",
    "        var_to_drop = vif_df_sin_const.sort_values('VIF', ascending=False).iloc[0]['variable']\n",
    "        variables_dropeadas.append(var_to_drop)\n",
    "        print(f\"Eliminando variable: {var_to_drop} con VIF {vif_df_sin_const.sort_values('VIF', ascending=False).iloc[0]['VIF']:.4f}\")\n",
    "        X_iter = X_iter.drop(columns=[var_to_drop])\n",
    "\n",
    "print(\"Variables eliminadas:\", variables_dropeadas)\n",
    "\n",
    "print(\"AIC:\", logit_model.aic)\n",
    "print(\"BIC:\", logit_model.bic)\n",
    "\n",
    "\n"
   ]
  },
  {
   "cell_type": "markdown",
   "id": "e1ed1fb0",
   "metadata": {},
   "source": [
    "Para comparar el modelo clásico con el optimizado, se intentó ajustar un modelo de regresión logística utilizando `statsmodels.Logit` para obtener métricas estadísticas (AIC y BIC). Debido a la alta colinealidad en el conjunto de variables predictoras, la matriz de diseño presentó problemas de singularidad. \n",
    "\n",
    "Para solventarlo, se aplicó una estrategia iterativa en la que:\n",
    "1. Se eliminaron las variables con varianza casi cero.\n",
    "2. Se calculó el VIF (Variance Inflation Factor) para las variables restantes.\n",
    "3. Se eliminó iterativamente la variable (excluyendo la constante) con el VIF más alto hasta lograr un ajuste exitoso del modelo.\n",
    "\n",
    "**Resultado del proceso:**\n",
    "- Variables eliminadas: `['2ndFlrSF', 'BsmtFinSF1', 'GrLivArea', 'YearBuilt', 'TotalBsmtSF', 'SalePrice']`\n",
    "- Con el modelo final, se obtuvo:\n",
    "  - **AIC:** 532.9479\n",
    "  - **BIC:** 882.2982\n",
    "\n",
    "Estos valores indican que, a través de la eliminación de variables colineales problemáticas, se logró un modelo con menor complejidad y un buen ajuste a los datos. Dichos criterios (AIC y BIC) serán útiles para comparar con modelos alternativos (por ejemplo, modelos basados en Árboles, Random Forest o Naive Bayes), y para seleccionar el modelo que ofrezca un balance óptimo entre calidad de ajuste y complejidad.\n",
    "\n",
    "En resumen, la estrategia iterativa permitió superar el problema de colinealidad, y los valores obtenidos de AIC y BIC se consideran razonables dentro del contexto del análisis. Este modelo se usará como referencia para la selección del mejor clasificador en los pasos siguientes."
   ]
  },
  {
   "cell_type": "markdown",
   "id": "05b05232",
   "metadata": {},
   "source": [
    "## Paso 10: Implementación de modelos alternativos (Árbol de Decisión, Random Forest, Naive Bayes)\n",
    "\n",
    "En este paso se implementan otros clasificadores sobre el mismo conjunto de datos, utilizando las mismas variables predictoras y la misma variable objetivo (`cara_o_no`) empleada en el mejor modelo de regresión logística.\n",
    "\n",
    "Los modelos a evaluar son:\n",
    "\n",
    "- Árbol de Decisión (DecisionTreeClassifier)\n",
    "- Random Forest (RandomForestClassifier)\n",
    "- Naive Bayes (GaussianNB)\n",
    "\n",
    "Cada modelo será entrenado utilizando el conjunto de entrenamiento, y su rendimiento será evaluado con las métricas estándar: Accuracy, Precision, Recall y F1-score.\n",
    "\n",
    "Estos modelos serán posteriormente comparados entre sí (y contra el modelo de regresión logística) en el paso 11, para determinar cuál ofrece el mejor balance entre rendimiento y eficiencia computacional.\n"
   ]
  },
  {
   "cell_type": "code",
   "execution_count": null,
   "id": "527e0f34",
   "metadata": {},
   "outputs": [
    {
     "name": "stdout",
     "output_type": "stream",
     "text": [
      "===== Árbol de Decisión =====\n",
      "              precision    recall  f1-score   support\n",
      "\n",
      "           0     1.0000    1.0000    1.0000       195\n",
      "           1     1.0000    1.0000    1.0000        97\n",
      "\n",
      "    accuracy                         1.0000       292\n",
      "   macro avg     1.0000    1.0000    1.0000       292\n",
      "weighted avg     1.0000    1.0000    1.0000       292\n",
      "\n",
      "\n",
      "===== Random Forest =====\n",
      "              precision    recall  f1-score   support\n",
      "\n",
      "           0     1.0000    1.0000    1.0000       195\n",
      "           1     1.0000    1.0000    1.0000        97\n",
      "\n",
      "    accuracy                         1.0000       292\n",
      "   macro avg     1.0000    1.0000    1.0000       292\n",
      "weighted avg     1.0000    1.0000    1.0000       292\n",
      "\n",
      "\n",
      "===== Naive Bayes =====\n",
      "              precision    recall  f1-score   support\n",
      "\n",
      "           0     0.9837    0.9282    0.9551       195\n",
      "           1     0.8704    0.9691    0.9171        97\n",
      "\n",
      "    accuracy                         0.9418       292\n",
      "   macro avg     0.9270    0.9486    0.9361       292\n",
      "weighted avg     0.9460    0.9418    0.9425       292\n",
      "\n",
      "\n"
     ]
    }
   ],
   "source": [
    "from sklearn.tree import DecisionTreeClassifier\n",
    "from sklearn.ensemble import RandomForestClassifier\n",
    "from sklearn.naive_bayes import GaussianNB\n",
    "from sklearn.metrics import classification_report\n",
    "\n",
    "modelos = {\n",
    "    \"Árbol de Decisión\": DecisionTreeClassifier(random_state=42),\n",
    "    \"Random Forest\": RandomForestClassifier(n_estimators=100, random_state=42),\n",
    "    \"Naive Bayes\": GaussianNB()\n",
    "}\n",
    "\n",
    "# Entrenamiento y evaluación\n",
    "for nombre, clf in modelos.items():\n",
    "    clf.fit(X_train, y_train)\n",
    "    y_pred = clf.predict(X_test)\n",
    "    \n",
    "    print(f\"===== {nombre} =====\")\n",
    "    print(classification_report(y_test, y_pred, digits=4))\n",
    "    print()\n"
   ]
  },
  {
   "cell_type": "markdown",
   "id": "edf8210f",
   "metadata": {},
   "source": [
    "## Paso 11: Comparación entre modelos de clasificación\n",
    "\n",
    "En este paso se comparan los distintos modelos de clasificación entrenados para predecir si una vivienda pertenece a la categoría `Cara`. Los modelos evaluados fueron:\n",
    "\n",
    "- Regresión Logística (optimizada con regularización L2 y GridSearch)\n",
    "- Árbol de Decisión\n",
    "- Random Forest\n",
    "- Naive Bayes\n",
    "\n",
    "La comparación se basa en las métricas estándar obtenidas sobre el conjunto de prueba (`test`):\n",
    "\n",
    "| Modelo              | Accuracy | Precision | Recall | F1-score |\n",
    "|---------------------|----------|-----------|--------|----------|\n",
    "| Regresión Logística | 0.9700   | 0.9600    | 0.9400 | 0.9500   |\n",
    "| Árbol de Decisión   | 1.0000   | 1.0000    | 1.0000 | 1.0000   |\n",
    "| Random Forest       | 1.0000   | 1.0000    | 1.0000 | 1.0000   |\n",
    "| Naive Bayes         | 0.9418   | 0.8704    | 0.9691 | 0.9171   |\n",
    "\n",
    "### Análisis comparativo:\n",
    "\n",
    "- Los modelos basados en Árboles (Decisión y Random Forest) obtuvieron un desempeño perfecto (100%) en el conjunto de prueba. Aunque esto es llamativo, también puede ser una señal de sobreajuste si no se controla su profundidad o complejidad.\n",
    "  \n",
    "- El modelo de Regresión Logística optimizado logra un excelente equilibrio entre precisión (0.96) y recall (0.94), con un F1-score alto de 0.95. Este modelo es más interpretable y eficiente computacionalmente.\n",
    "\n",
    "- Naive Bayes tuvo un desempeño inferior en comparación a los otros modelos, aunque sigue siendo aceptable:\n",
    "  - Precision: 0.87\n",
    "  - Recall: 0.97\n",
    "  - F1: 0.917\n",
    "  Esto sugiere que comete más falsos positivos, pero logra capturar casi todas las viviendas realmente caras."
   ]
  }
 ],
 "metadata": {
  "kernelspec": {
   "display_name": "Python 3",
   "language": "python",
   "name": "python3"
  },
  "language_info": {
   "codemirror_mode": {
    "name": "ipython",
    "version": 3
   },
   "file_extension": ".py",
   "mimetype": "text/x-python",
   "name": "python",
   "nbconvert_exporter": "python",
   "pygments_lexer": "ipython3",
   "version": "3.12.4"
  }
 },
 "nbformat": 4,
 "nbformat_minor": 5
}
