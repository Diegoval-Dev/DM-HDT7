{
 "cells": [
  {
   "cell_type": "markdown",
   "id": "489d3b39",
   "metadata": {},
   "source": [
    "# Modelos de Regresión Logística\n",
    "Repo: https://github.com/Diegoval-Dev/DM-HDT7\n",
    "\n",
    "- Gerson Ramirez - 22281\n",
    "- Diego Valenzuela - 22309"
   ]
  },
  {
   "cell_type": "markdown",
   "id": "6c5d968c",
   "metadata": {},
   "source": [
    "## Paso 1: Crear variables dicotómicas para las categorías de precio\n",
    "\n",
    "Para aplicar modelos de clasificación binaria como la regresión logística, es necesario transformar la variable categórica que representa el precio de la vivienda en variables dicotómicas. En ejercicios anteriores se clasificaron las viviendas en tres categorías: `cara`, `media` y `económica`.\n",
    "\n",
    "En este paso, crearemos tres nuevas columnas binarias:\n",
    "- `cara_o_no`: toma valor 1 si la vivienda es cara, 0 en caso contrario.\n",
    "- `media_o_no`: toma valor 1 si la vivienda es de precio medio, 0 en caso contrario.\n",
    "- `economica_o_no`: toma valor 1 si la vivienda es económica, 0 en caso contrario.\n",
    "\n",
    "Estas variables permitirán construir modelos independientes para predecir cada categoría.\n"
   ]
  },
  {
   "cell_type": "code",
   "execution_count": 4,
   "id": "6042233c",
   "metadata": {},
   "outputs": [
    {
     "name": "stdout",
     "output_type": "stream",
     "text": [
      "Categorías únicas: ['Cara' 'Intermedia' 'Economica']\n"
     ]
    },
    {
     "data": {
      "text/html": [
       "<div>\n",
       "<style scoped>\n",
       "    .dataframe tbody tr th:only-of-type {\n",
       "        vertical-align: middle;\n",
       "    }\n",
       "\n",
       "    .dataframe tbody tr th {\n",
       "        vertical-align: top;\n",
       "    }\n",
       "\n",
       "    .dataframe thead th {\n",
       "        text-align: right;\n",
       "    }\n",
       "</style>\n",
       "<table border=\"1\" class=\"dataframe\">\n",
       "  <thead>\n",
       "    <tr style=\"text-align: right;\">\n",
       "      <th></th>\n",
       "      <th>PriceCategory</th>\n",
       "      <th>cara_o_no</th>\n",
       "      <th>media_o_no</th>\n",
       "      <th>economica_o_no</th>\n",
       "    </tr>\n",
       "  </thead>\n",
       "  <tbody>\n",
       "    <tr>\n",
       "      <th>0</th>\n",
       "      <td>Cara</td>\n",
       "      <td>1</td>\n",
       "      <td>0</td>\n",
       "      <td>0</td>\n",
       "    </tr>\n",
       "    <tr>\n",
       "      <th>1</th>\n",
       "      <td>Intermedia</td>\n",
       "      <td>0</td>\n",
       "      <td>1</td>\n",
       "      <td>0</td>\n",
       "    </tr>\n",
       "    <tr>\n",
       "      <th>2</th>\n",
       "      <td>Cara</td>\n",
       "      <td>1</td>\n",
       "      <td>0</td>\n",
       "      <td>0</td>\n",
       "    </tr>\n",
       "    <tr>\n",
       "      <th>3</th>\n",
       "      <td>Intermedia</td>\n",
       "      <td>0</td>\n",
       "      <td>1</td>\n",
       "      <td>0</td>\n",
       "    </tr>\n",
       "    <tr>\n",
       "      <th>4</th>\n",
       "      <td>Cara</td>\n",
       "      <td>1</td>\n",
       "      <td>0</td>\n",
       "      <td>0</td>\n",
       "    </tr>\n",
       "  </tbody>\n",
       "</table>\n",
       "</div>"
      ],
      "text/plain": [
       "  PriceCategory  cara_o_no  media_o_no  economica_o_no\n",
       "0          Cara          1           0               0\n",
       "1    Intermedia          0           1               0\n",
       "2          Cara          1           0               0\n",
       "3    Intermedia          0           1               0\n",
       "4          Cara          1           0               0"
      ]
     },
     "execution_count": 4,
     "metadata": {},
     "output_type": "execute_result"
    }
   ],
   "source": [
    "import pandas as pd\n",
    "\n",
    "df = pd.read_csv(\"processed_data.csv\")\n",
    "\n",
    "print(\"Categorías únicas:\", df['PriceCategory'].unique())\n",
    "\n",
    "df['cara_o_no'] = (df['PriceCategory'] == 'Cara').astype(int)\n",
    "df['media_o_no'] = (df['PriceCategory'] == 'Intermedia').astype(int)\n",
    "df['economica_o_no'] = (df['PriceCategory'] == 'Economica').astype(int)\n",
    "\n",
    "df[['PriceCategory', 'cara_o_no', 'media_o_no', 'economica_o_no']].head()\n",
    "\n"
   ]
  },
  {
   "cell_type": "markdown",
   "id": "89d9dd18",
   "metadata": {},
   "source": [
    "### Análisis del Paso 1: Variables dicotómicas\n",
    "\n",
    "Las nuevas columnas `cara_o_no`, `media_o_no` y `economica_o_no` fueron creadas exitosamente a partir de la variable categórica `PriceCategory`. Cada una representa una clase como una variable binaria (1 si pertenece a esa clase, 0 si no).\n",
    "\n",
    "Este paso es esencial para aplicar modelos de clasificación binaria como la regresión logística. Al usar estas variables, se podrá entrenar un modelo independiente para predecir si una vivienda pertenece o no a cada una de las categorías definidas.\n",
    "\n",
    "El resultado obtenido muestra que las variables se asignaron correctamente. Por ejemplo, una vivienda con `PriceCategory = \"Cara\"` tiene `cara_o_no = 1` y `media_o_no` y `economica_o_no` iguales a 0.\n"
   ]
  },
  {
   "cell_type": "markdown",
   "id": "ea8343c4",
   "metadata": {},
   "source": [
    "## Paso 2: Cargar los mismos conjuntos de entrenamiento y prueba utilizados anteriormente\n",
    "\n",
    "Para mantener la consistencia con los análisis previos y permitir comparaciones justas entre modelos, utilizaremos los mismos conjuntos de entrenamiento y prueba que se usaron en ejercicios anteriores como KNN y Naive Bayes.\n",
    "\n",
    "Estos conjuntos fueron generados a partir del dataset procesado, utilizando una división del 80% para entrenamiento y 20% para prueba, con una semilla (`random_state`) fija para garantizar reproducibilidad. En esta hoja se reutilizará esa misma división, filtrando además solo las columnas necesarias para el modelo actual.\n"
   ]
  },
  {
   "cell_type": "code",
   "execution_count": 5,
   "id": "d4f2ac95",
   "metadata": {},
   "outputs": [
    {
     "name": "stdout",
     "output_type": "stream",
     "text": [
      "Tamaño X_train: (1168, 76)\n",
      "Tamaño X_test: (292, 76)\n",
      "Distribución en y_train: 0    0.669521\n",
      "1    0.330479\n",
      "Name: cara_o_no, dtype: float64\n",
      "Distribución en y_test: 0    0.667808\n",
      "1    0.332192\n",
      "Name: cara_o_no, dtype: float64\n"
     ]
    }
   ],
   "source": [
    "from sklearn.model_selection import train_test_split\n",
    "\n",
    "X = df.drop(columns=['PriceCategory', 'cara_o_no', 'media_o_no', 'economica_o_no'])\n",
    "\n",
    "y = df['cara_o_no']\n",
    "\n",
    "X_train, X_test, y_train, y_test = train_test_split(\n",
    "    X, y, test_size=0.2, random_state=42, stratify=y\n",
    ")\n",
    "\n",
    "print(\"Tamaño X_train:\", X_train.shape)\n",
    "print(\"Tamaño X_test:\", X_test.shape)\n",
    "print(\"Distribución en y_train:\", y_train.value_counts(normalize=True))\n",
    "print(\"Distribución en y_test:\", y_test.value_counts(normalize=True))\n"
   ]
  },
  {
   "cell_type": "markdown",
   "id": "663298fd",
   "metadata": {},
   "source": [
    "### Análisis del Paso 2: División en conjuntos de entrenamiento y prueba\n",
    "\n",
    "Se utilizó la función `train_test_split` para dividir el conjunto de datos en entrenamiento (80%) y prueba (20%), manteniendo la proporción de clases mediante el parámetro `stratify=y`.\n",
    "\n",
    "Se utilizó como variable objetivo la columna `cara_o_no`, que representa si una vivienda es cara o no. La matriz `X` contiene únicamente las variables predictoras, excluyendo las etiquetas categóricas y las variables dummy adicionales.\n",
    "\n",
    "Los tamaños de los conjuntos son:\n",
    "- Entrenamiento: 1168 muestras\n",
    "- Prueba: 292 muestras\n",
    "\n",
    "La distribución de clases se conserva adecuadamente:\n",
    "- Entrenamiento: 33% viviendas caras, 67% no caras\n",
    "- Prueba: 33% viviendas caras, 67% no caras\n",
    "\n",
    "Esta división permitirá entrenar y evaluar el modelo de forma confiable y reproducible.\n"
   ]
  },
  {
   "cell_type": "markdown",
   "id": "05f89894",
   "metadata": {},
   "source": [
    "## Paso 3: Entrenar un modelo de regresión logística (cara vs no cara)\n",
    "\n",
    "En este paso se entrenará un modelo de regresión logística para predecir si una vivienda pertenece a la categoría `Cara` o no. Para ello, se utilizará como variable dependiente la columna `cara_o_no` y como variables independientes el conjunto de predictores previamente definido.\n",
    "\n",
    "Se aplicará validación cruzada con 5 particiones (`cv=5`) para obtener métricas de desempeño estables. Además, se calcularán los coeficientes del modelo para analizar la influencia de cada variable en la probabilidad de que una vivienda sea clasificada como `Cara`.\n",
    "\n",
    "Este modelo servirá como base para evaluar qué tan bien se puede predecir esta categoría utilizando regresión logística.\n"
   ]
  },
  {
   "cell_type": "code",
   "execution_count": 6,
   "id": "d835820c",
   "metadata": {},
   "outputs": [
    {
     "name": "stdout",
     "output_type": "stream",
     "text": [
      "Accuracy promedio (validación cruzada): 0.9949\n",
      "Desviación estándar: 0.0032\n"
     ]
    },
    {
     "data": {
      "text/html": [
       "<div>\n",
       "<style scoped>\n",
       "    .dataframe tbody tr th:only-of-type {\n",
       "        vertical-align: middle;\n",
       "    }\n",
       "\n",
       "    .dataframe tbody tr th {\n",
       "        vertical-align: top;\n",
       "    }\n",
       "\n",
       "    .dataframe thead th {\n",
       "        text-align: right;\n",
       "    }\n",
       "</style>\n",
       "<table border=\"1\" class=\"dataframe\">\n",
       "  <thead>\n",
       "    <tr style=\"text-align: right;\">\n",
       "      <th></th>\n",
       "      <th>Variable</th>\n",
       "      <th>Coeficiente</th>\n",
       "    </tr>\n",
       "  </thead>\n",
       "  <tbody>\n",
       "    <tr>\n",
       "      <th>72</th>\n",
       "      <td>YrSold</td>\n",
       "      <td>-0.103332</td>\n",
       "    </tr>\n",
       "    <tr>\n",
       "      <th>19</th>\n",
       "      <td>YearRemodAdd</td>\n",
       "      <td>-0.090081</td>\n",
       "    </tr>\n",
       "    <tr>\n",
       "      <th>57</th>\n",
       "      <td>GarageYrBlt</td>\n",
       "      <td>-0.056699</td>\n",
       "    </tr>\n",
       "    <tr>\n",
       "      <th>18</th>\n",
       "      <td>YearBuilt</td>\n",
       "      <td>-0.051794</td>\n",
       "    </tr>\n",
       "    <tr>\n",
       "      <th>3</th>\n",
       "      <td>LotFrontage</td>\n",
       "      <td>-0.018195</td>\n",
       "    </tr>\n",
       "    <tr>\n",
       "      <th>68</th>\n",
       "      <td>ScreenPorch</td>\n",
       "      <td>-0.017095</td>\n",
       "    </tr>\n",
       "    <tr>\n",
       "      <th>1</th>\n",
       "      <td>MSSubClass</td>\n",
       "      <td>0.015714</td>\n",
       "    </tr>\n",
       "    <tr>\n",
       "      <th>66</th>\n",
       "      <td>EnclosedPorch</td>\n",
       "      <td>-0.013813</td>\n",
       "    </tr>\n",
       "    <tr>\n",
       "      <th>44</th>\n",
       "      <td>LowQualFinSF</td>\n",
       "      <td>0.012296</td>\n",
       "    </tr>\n",
       "    <tr>\n",
       "      <th>65</th>\n",
       "      <td>OpenPorchSF</td>\n",
       "      <td>-0.011958</td>\n",
       "    </tr>\n",
       "  </tbody>\n",
       "</table>\n",
       "</div>"
      ],
      "text/plain": [
       "         Variable  Coeficiente\n",
       "72         YrSold    -0.103332\n",
       "19   YearRemodAdd    -0.090081\n",
       "57    GarageYrBlt    -0.056699\n",
       "18      YearBuilt    -0.051794\n",
       "3     LotFrontage    -0.018195\n",
       "68    ScreenPorch    -0.017095\n",
       "1      MSSubClass     0.015714\n",
       "66  EnclosedPorch    -0.013813\n",
       "44   LowQualFinSF     0.012296\n",
       "65    OpenPorchSF    -0.011958"
      ]
     },
     "execution_count": 6,
     "metadata": {},
     "output_type": "execute_result"
    }
   ],
   "source": [
    "from sklearn.linear_model import LogisticRegression\n",
    "from sklearn.model_selection import cross_val_score\n",
    "import numpy as np\n",
    "\n",
    "model = LogisticRegression(max_iter=1000, solver='liblinear')\n",
    "\n",
    "cv_scores = cross_val_score(model, X_train, y_train, cv=5, scoring='accuracy')\n",
    "\n",
    "model.fit(X_train, y_train)\n",
    "\n",
    "print(\"Accuracy promedio (validación cruzada):\", round(np.mean(cv_scores), 4))\n",
    "print(\"Desviación estándar:\", round(np.std(cv_scores), 4))\n",
    "\n",
    "coef_df = pd.DataFrame({\n",
    "    'Variable': X_train.columns,\n",
    "    'Coeficiente': model.coef_[0]\n",
    "}).sort_values(by='Coeficiente', key=abs, ascending=False)\n",
    "\n",
    "coef_df.head(10)\n"
   ]
  },
  {
   "cell_type": "markdown",
   "id": "1e2a19c3",
   "metadata": {},
   "source": [
    "### Análisis del Paso 3: Modelo de regresión logística (cara vs no cara)\n",
    "\n",
    "Se entrenó un modelo de regresión logística para predecir si una vivienda pertenece a la categoría `Cara` o no. El modelo fue evaluado utilizando validación cruzada con 5 particiones (`cv=5`) sobre el conjunto de entrenamiento.\n",
    "\n",
    "#### Resultados:\n",
    "- **Accuracy promedio (CV):** 0.9949\n",
    "- **Desviación estándar:** 0.0032\n",
    "\n",
    "Estos valores indican un rendimiento extremadamente alto del modelo en la etapa de entrenamiento, lo cual podría ser una señal de **sobreajuste**, por lo que será importante compararlo con el rendimiento en el conjunto de prueba más adelante.\n",
    "\n",
    "#### Coeficientes más relevantes del modelo:\n",
    "Los siguientes predictores fueron los que más influyeron (en valor absoluto) en la clasificación:\n",
    "\n",
    "| Variable         | Coeficiente  |\n",
    "|------------------|--------------|\n",
    "| YrSold           | -0.1033      |\n",
    "| YearRemodAdd     | -0.0901      |\n",
    "| GarageYrBlt      | -0.0567      |\n",
    "| YearBuilt        | -0.0518      |\n",
    "| LotFrontage      | -0.0182      |\n",
    "| ScreenPorch      | -0.0171      |\n",
    "\n",
    "Los coeficientes negativos indican que a mayor valor de esa variable, menor probabilidad de que la vivienda sea clasificada como `Cara`. Por ejemplo, casas más nuevas (`YrSold`, `YearBuilt`, `YearRemodAdd`) tienden a no ser clasificadas como `Cara`, posiblemente porque la categoría `Cara` está asociada con otras características de lujo más que con la antigüedad.\n",
    "\n",
    "Este modelo servirá como base para evaluar el sobreajuste, la capacidad predictiva y para compararlo con otros clasificadores más adelante.\n"
   ]
  }
 ],
 "metadata": {
  "kernelspec": {
   "display_name": "Python 3",
   "language": "python",
   "name": "python3"
  },
  "language_info": {
   "codemirror_mode": {
    "name": "ipython",
    "version": 3
   },
   "file_extension": ".py",
   "mimetype": "text/x-python",
   "name": "python",
   "nbconvert_exporter": "python",
   "pygments_lexer": "ipython3",
   "version": "3.10.7"
  }
 },
 "nbformat": 4,
 "nbformat_minor": 5
}
