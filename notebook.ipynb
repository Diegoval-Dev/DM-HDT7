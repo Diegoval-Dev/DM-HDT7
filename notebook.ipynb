{
 "cells": [
  {
   "cell_type": "markdown",
   "id": "489d3b39",
   "metadata": {},
   "source": [
    "# Modelos de Regresión Logística\n",
    "Repo: https://github.com/Diegoval-Dev/DM-HDT7\n",
    "\n",
    "- Gerson Ramirez - 22281\n",
    "- Diego Valenzuela - 22309"
   ]
  },
  {
   "cell_type": "markdown",
   "id": "6c5d968c",
   "metadata": {},
   "source": [
    "## Paso 1: Crear variables dicotómicas para las categorías de precio\n",
    "\n",
    "Para aplicar modelos de clasificación binaria como la regresión logística, es necesario transformar la variable categórica que representa el precio de la vivienda en variables dicotómicas. En ejercicios anteriores se clasificaron las viviendas en tres categorías: `cara`, `media` y `económica`.\n",
    "\n",
    "En este paso, crearemos tres nuevas columnas binarias:\n",
    "- `cara_o_no`: toma valor 1 si la vivienda es cara, 0 en caso contrario.\n",
    "- `media_o_no`: toma valor 1 si la vivienda es de precio medio, 0 en caso contrario.\n",
    "- `economica_o_no`: toma valor 1 si la vivienda es económica, 0 en caso contrario.\n",
    "\n",
    "Estas variables permitirán construir modelos independientes para predecir cada categoría.\n"
   ]
  },
  {
   "cell_type": "code",
   "execution_count": 4,
   "id": "6042233c",
   "metadata": {},
   "outputs": [
    {
     "name": "stdout",
     "output_type": "stream",
     "text": [
      "Categorías únicas: ['Cara' 'Intermedia' 'Economica']\n"
     ]
    },
    {
     "data": {
      "text/html": [
       "<div>\n",
       "<style scoped>\n",
       "    .dataframe tbody tr th:only-of-type {\n",
       "        vertical-align: middle;\n",
       "    }\n",
       "\n",
       "    .dataframe tbody tr th {\n",
       "        vertical-align: top;\n",
       "    }\n",
       "\n",
       "    .dataframe thead th {\n",
       "        text-align: right;\n",
       "    }\n",
       "</style>\n",
       "<table border=\"1\" class=\"dataframe\">\n",
       "  <thead>\n",
       "    <tr style=\"text-align: right;\">\n",
       "      <th></th>\n",
       "      <th>PriceCategory</th>\n",
       "      <th>cara_o_no</th>\n",
       "      <th>media_o_no</th>\n",
       "      <th>economica_o_no</th>\n",
       "    </tr>\n",
       "  </thead>\n",
       "  <tbody>\n",
       "    <tr>\n",
       "      <th>0</th>\n",
       "      <td>Cara</td>\n",
       "      <td>1</td>\n",
       "      <td>0</td>\n",
       "      <td>0</td>\n",
       "    </tr>\n",
       "    <tr>\n",
       "      <th>1</th>\n",
       "      <td>Intermedia</td>\n",
       "      <td>0</td>\n",
       "      <td>1</td>\n",
       "      <td>0</td>\n",
       "    </tr>\n",
       "    <tr>\n",
       "      <th>2</th>\n",
       "      <td>Cara</td>\n",
       "      <td>1</td>\n",
       "      <td>0</td>\n",
       "      <td>0</td>\n",
       "    </tr>\n",
       "    <tr>\n",
       "      <th>3</th>\n",
       "      <td>Intermedia</td>\n",
       "      <td>0</td>\n",
       "      <td>1</td>\n",
       "      <td>0</td>\n",
       "    </tr>\n",
       "    <tr>\n",
       "      <th>4</th>\n",
       "      <td>Cara</td>\n",
       "      <td>1</td>\n",
       "      <td>0</td>\n",
       "      <td>0</td>\n",
       "    </tr>\n",
       "  </tbody>\n",
       "</table>\n",
       "</div>"
      ],
      "text/plain": [
       "  PriceCategory  cara_o_no  media_o_no  economica_o_no\n",
       "0          Cara          1           0               0\n",
       "1    Intermedia          0           1               0\n",
       "2          Cara          1           0               0\n",
       "3    Intermedia          0           1               0\n",
       "4          Cara          1           0               0"
      ]
     },
     "execution_count": 4,
     "metadata": {},
     "output_type": "execute_result"
    }
   ],
   "source": [
    "import pandas as pd\n",
    "\n",
    "df = pd.read_csv(\"processed_data.csv\")\n",
    "\n",
    "print(\"Categorías únicas:\", df['PriceCategory'].unique())\n",
    "\n",
    "df['cara_o_no'] = (df['PriceCategory'] == 'Cara').astype(int)\n",
    "df['media_o_no'] = (df['PriceCategory'] == 'Intermedia').astype(int)\n",
    "df['economica_o_no'] = (df['PriceCategory'] == 'Economica').astype(int)\n",
    "\n",
    "df[['PriceCategory', 'cara_o_no', 'media_o_no', 'economica_o_no']].head()\n",
    "\n"
   ]
  },
  {
   "cell_type": "markdown",
   "id": "89d9dd18",
   "metadata": {},
   "source": [
    "### Análisis del Paso 1: Variables dicotómicas\n",
    "\n",
    "Las nuevas columnas `cara_o_no`, `media_o_no` y `economica_o_no` fueron creadas exitosamente a partir de la variable categórica `PriceCategory`. Cada una representa una clase como una variable binaria (1 si pertenece a esa clase, 0 si no).\n",
    "\n",
    "Este paso es esencial para aplicar modelos de clasificación binaria como la regresión logística. Al usar estas variables, se podrá entrenar un modelo independiente para predecir si una vivienda pertenece o no a cada una de las categorías definidas.\n",
    "\n",
    "El resultado obtenido muestra que las variables se asignaron correctamente. Por ejemplo, una vivienda con `PriceCategory = \"Cara\"` tiene `cara_o_no = 1` y `media_o_no` y `economica_o_no` iguales a 0.\n"
   ]
  }
 ],
 "metadata": {
  "kernelspec": {
   "display_name": "Python 3",
   "language": "python",
   "name": "python3"
  },
  "language_info": {
   "codemirror_mode": {
    "name": "ipython",
    "version": 3
   },
   "file_extension": ".py",
   "mimetype": "text/x-python",
   "name": "python",
   "nbconvert_exporter": "python",
   "pygments_lexer": "ipython3",
   "version": "3.10.7"
  }
 },
 "nbformat": 4,
 "nbformat_minor": 5
}
